{
  "nbformat": 4,
  "nbformat_minor": 0,
  "metadata": {
    "colab": {
      "provenance": []
    },
    "kernelspec": {
      "name": "python3",
      "display_name": "Python 3"
    },
    "language_info": {
      "name": "python"
    }
  },
  "cells": [
    {
      "cell_type": "markdown",
      "source": [
        "# Neural Network"
      ],
      "metadata": {
        "id": "Fj5PI_4tztQH"
      }
    },
    {
      "cell_type": "markdown",
      "source": [
        "<img src=\"https://i.postimg.cc/5NKS0rfx/nn.png\" alt=\"NN\" width=\"500\"/>"
      ],
      "metadata": {
        "id": "bstT6cgUz3Wf"
      }
    },
    {
      "cell_type": "code",
      "source": [
        "import numpy as np\n",
        "\n",
        "class NeuralNetwork():\n",
        "\n",
        "    # Set random seed\n",
        "    np.random.seed(42)\n",
        "\n",
        "    def __init__(self, X, y, n_hidden_neurons, output_act_fn = 'linear', error_fn = 'mse'):\n",
        "        self.X = X\n",
        "        self.y = y\n",
        "        self.n_input_neurons = X.shape[1]\n",
        "        self.n_hidden_neurons = n_hidden_neurons\n",
        "        self.output_act_fn = output_act_fn\n",
        "        self.error_fn = error_fn\n",
        "\n",
        "        # Initialize weights and biases with random values (array of random numbers)\n",
        "        self.input_hidden_weights = np.random.randn(self.n_input_neurons, self.n_hidden_neurons)\n",
        "        self.hidden_biases = np.random.randn(self.n_hidden_neurons)\n",
        "        self.hidden_output_weights = np.random.randn(self.n_hidden_neurons, 1)\n",
        "        self.output_bias = np.random.randn(1)\n",
        "\n",
        "    def activation(self, x, act_fn):\n",
        "        if act_fn == 'sigmoid':\n",
        "            return 1 / (1 + np.exp(-x))\n",
        "        elif act_fn == 'relu':\n",
        "            return np.maximum(0, x)\n",
        "        elif act_fn == 'linear':\n",
        "            return x\n",
        "        else:\n",
        "            raise Exception('Unknown activation function')\n",
        "\n",
        "    def activation_derivative(self, x, act_fn):\n",
        "        if act_fn == 'sigmoid':\n",
        "            return x * (1 - x)\n",
        "        elif act_fn == 'relu':\n",
        "            return np.where(x > 0, 1, 0)\n",
        "        elif act_fn == 'linear':\n",
        "            return 1\n",
        "        else:\n",
        "            raise Exception('Unknown activation function')\n",
        "\n",
        "    # Forward Propagation\n",
        "    def forward_pass(self, X):\n",
        "        # Input layer\n",
        "        self.input = X\n",
        "\n",
        "        # Hidden layer\n",
        "        self.hidden = self.activation(np.dot(self.input, self.input_hidden_weights) + self.hidden_biases, 'relu')\n",
        "\n",
        "        # Output layer\n",
        "        self.output = self.activation(np.dot(self.hidden, self.hidden_output_weights) + self.output_bias, self.output_act_fn)\n",
        "\n",
        "        return self.output\n",
        "\n",
        "    # Error Estimation\n",
        "    def error(self, y_true, y_pred):\n",
        "        if self.error_fn == 'mse':\n",
        "            return np.mean(np.square(y_true - y_pred))\n",
        "        elif self.error_fn == 'cross_entropy':\n",
        "            return -np.mean(y_true * np.log(y_pred+0.00001) + (1 - y_true) * np.log(1 - y_pred+0.00001))\n",
        "        else:\n",
        "            raise Exception('Unknown error function')\n",
        "\n",
        "    def error_derivative(self, y_true, y_pred):\n",
        "        if self.error_fn == 'mse':\n",
        "            return  2 * (y_pred - y_true) / y_true.size\n",
        "        elif self.error_fn == 'cross_entropy':\n",
        "            return (y_pred - y_true) / (y_pred * (1 - y_pred+.00001) * y_true.size)\n",
        "        else:\n",
        "            raise Exception('Unknown error function')\n",
        "\n",
        "    # Backpropagation\n",
        "    def backward_pass(self, X, y_true, y_pred, learning_rate):\n",
        "        # Output layer\n",
        "        self.output_error = self.error_derivative(y_true, y_pred) * self.activation_derivative(y_pred, self.output_act_fn)\n",
        "        self.output_bias -= learning_rate * np.sum(self.output_error, axis=0)\n",
        "        self.hidden_output_weights -= learning_rate * np.dot(self.hidden.T, self.output_error)\n",
        "\n",
        "        # Hidden layer\n",
        "        self.hidden_error = np.dot(self.output_error, self.hidden_output_weights.T) * self.activation_derivative(self.hidden, 'relu')\n",
        "        self.hidden_biases -= learning_rate * np.sum(self.hidden_error, axis=0)\n",
        "        self.input_hidden_weights -= learning_rate * np.dot(X.T, self.hidden_error)\n",
        "\n",
        "        # return weights and biases\n",
        "        return self.input_hidden_weights, self.hidden_biases, self.hidden_output_weights, self.output_bias\n",
        "\n",
        "    # Training\n",
        "    def train(self, X, y, learning_rate, epochs):\n",
        "        for epoch in range(epochs):\n",
        "            y_pred = self.forward_pass(X)\n",
        "            wih, bh, who, bo = self.backward_pass(X, y, y_pred, learning_rate)\n",
        "            if epoch % 500 == 0:\n",
        "                print('Epoch: {}, Loss: {:.3f}'.format(epoch, self.error(y, y_pred)))\n",
        "        print('Training complete!')\n",
        "        return wih, bh, who, bo\n",
        "\n",
        "    # Prediction\n",
        "    def predict(self, X):\n",
        "        if self.error_fn == 'mse':\n",
        "            return self.forward_pass(X)\n",
        "        elif self.error_fn == 'cross_entropy':\n",
        "            return np.where(self.forward_pass(X) > 0.5, 1, 0)\n"
      ],
      "metadata": {
        "id": "JOlNlQQPz4HX"
      },
      "execution_count": 6,
      "outputs": []
    },
    {
      "cell_type": "code",
      "source": [
        "# Create dataset\n",
        "X = np.random.rand(100, 2)  # 100 samples, 2 features\n",
        "y = np.random.randint(0, 2, (100, 1))  # Binary labels (0 or 1)\n",
        "y= y.reshape(-1,1)\n",
        "# Initialize neural network\n",
        "nn = NeuralNetwork(X, y, n_hidden_neurons=4, output_act_fn='sigmoid', error_fn='mse')\n",
        "\n",
        "# Train the network\n",
        "nn.train(X, y, learning_rate=0.01, epochs=5000)\n",
        "\n",
        "# Make predictions\n",
        "predictions = nn.predict(X)\n",
        "print(predictions)\n"
      ],
      "metadata": {
        "colab": {
          "base_uri": "https://localhost:8080/"
        },
        "id": "nuZlt4upz_9u",
        "outputId": "bef370aa-b450-4016-b776-25cbf17ff5cb",
        "collapsed": true
      },
      "execution_count": 9,
      "outputs": [
        {
          "output_type": "stream",
          "name": "stdout",
          "text": [
            "Epoch: 0, Loss: 0.276\n",
            "Epoch: 500, Loss: 0.249\n",
            "Epoch: 1000, Loss: 0.248\n",
            "Epoch: 1500, Loss: 0.248\n",
            "Epoch: 2000, Loss: 0.247\n",
            "Epoch: 2500, Loss: 0.247\n",
            "Epoch: 3000, Loss: 0.247\n",
            "Epoch: 3500, Loss: 0.247\n",
            "Epoch: 4000, Loss: 0.247\n",
            "Epoch: 4500, Loss: 0.247\n",
            "Training complete!\n",
            "[[0.55314893]\n",
            " [0.55769776]\n",
            " [0.51367661]\n",
            " [0.56210396]\n",
            " [0.53213688]\n",
            " [0.60894962]\n",
            " [0.51834702]\n",
            " [0.56871805]\n",
            " [0.50131241]\n",
            " [0.46098408]\n",
            " [0.44747392]\n",
            " [0.59248428]\n",
            " [0.43322689]\n",
            " [0.59413441]\n",
            " [0.57398023]\n",
            " [0.41737241]\n",
            " [0.51008746]\n",
            " [0.52437114]\n",
            " [0.52843662]\n",
            " [0.59461739]\n",
            " [0.53394431]\n",
            " [0.38279075]\n",
            " [0.56654975]\n",
            " [0.51840824]\n",
            " [0.45828842]\n",
            " [0.50638875]\n",
            " [0.56434238]\n",
            " [0.58761799]\n",
            " [0.51474251]\n",
            " [0.51384278]\n",
            " [0.46346405]\n",
            " [0.43867727]\n",
            " [0.45040562]\n",
            " [0.56996401]\n",
            " [0.53998166]\n",
            " [0.51159251]\n",
            " [0.44880834]\n",
            " [0.48226634]\n",
            " [0.58029888]\n",
            " [0.47663022]\n",
            " [0.48680424]\n",
            " [0.57473047]\n",
            " [0.41350834]\n",
            " [0.40858658]\n",
            " [0.59847965]\n",
            " [0.4781912 ]\n",
            " [0.49958422]\n",
            " [0.61562134]\n",
            " [0.57733273]\n",
            " [0.48041486]\n",
            " [0.46397395]\n",
            " [0.41550071]\n",
            " [0.43605667]\n",
            " [0.62716902]\n",
            " [0.59778275]\n",
            " [0.41931986]\n",
            " [0.51129946]\n",
            " [0.53839861]\n",
            " [0.48961725]\n",
            " [0.54135273]\n",
            " [0.62363621]\n",
            " [0.46545134]\n",
            " [0.4481847 ]\n",
            " [0.59401876]\n",
            " [0.5450874 ]\n",
            " [0.40217734]\n",
            " [0.48937057]\n",
            " [0.44641695]\n",
            " [0.52913838]\n",
            " [0.6338707 ]\n",
            " [0.44244535]\n",
            " [0.60089308]\n",
            " [0.54250691]\n",
            " [0.48089128]\n",
            " [0.5291451 ]\n",
            " [0.55095364]\n",
            " [0.42789891]\n",
            " [0.41729915]\n",
            " [0.47188999]\n",
            " [0.51067457]\n",
            " [0.41983937]\n",
            " [0.57151384]\n",
            " [0.4121924 ]\n",
            " [0.40165129]\n",
            " [0.59248412]\n",
            " [0.39284399]\n",
            " [0.49464923]\n",
            " [0.5442159 ]\n",
            " [0.592778  ]\n",
            " [0.51947604]\n",
            " [0.56450682]\n",
            " [0.46700964]\n",
            " [0.43207254]\n",
            " [0.41360033]\n",
            " [0.44702936]\n",
            " [0.42247865]\n",
            " [0.55611974]\n",
            " [0.62098819]\n",
            " [0.44129913]\n",
            " [0.42212142]]\n"
          ]
        }
      ]
    },
    {
      "cell_type": "code",
      "source": [
        "wih, bh, who, bo= nn.train(X, y, learning_rate=0.001, epochs=5000)"
      ],
      "metadata": {
        "colab": {
          "base_uri": "https://localhost:8080/"
        },
        "id": "nSMX_a2O0D77",
        "outputId": "b26514b8-fcbb-48ce-c422-6bf7692ac9f2"
      },
      "execution_count": 11,
      "outputs": [
        {
          "output_type": "stream",
          "name": "stdout",
          "text": [
            "Epoch: 0, Loss: 0.247\n",
            "Epoch: 500, Loss: 0.247\n",
            "Epoch: 1000, Loss: 0.247\n",
            "Epoch: 1500, Loss: 0.247\n",
            "Epoch: 2000, Loss: 0.247\n",
            "Epoch: 2500, Loss: 0.247\n",
            "Epoch: 3000, Loss: 0.247\n",
            "Epoch: 3500, Loss: 0.247\n",
            "Epoch: 4000, Loss: 0.247\n",
            "Epoch: 4500, Loss: 0.247\n",
            "Training complete!\n"
          ]
        }
      ]
    },
    {
      "cell_type": "code",
      "source": [
        "# Weights and biases\n",
        "print('Input-hidden weights:\\n', wih)\n",
        "print('Hidden-output weights:\\n', who)\n",
        "print('Hidden biases:\\n', bh)\n",
        "print('Output bias:\\n', bo)"
      ],
      "metadata": {
        "id": "sdZJSJXM0TKF",
        "colab": {
          "base_uri": "https://localhost:8080/"
        },
        "outputId": "168c7fa8-0bca-4582-98da-6e08269cc6b5"
      },
      "execution_count": 12,
      "outputs": [
        {
          "output_type": "stream",
          "name": "stdout",
          "text": [
            "Input-hidden weights:\n",
            " [[-0.94445665 -1.71313453  1.31957649 -0.11453985]\n",
            " [ 1.22762151 -1.59442766 -0.55970349  0.0052437 ]]\n",
            "Hidden-output weights:\n",
            " [[0.0802182 ]\n",
            " [0.12029563]\n",
            " [0.67071636]\n",
            " [0.71161488]]\n",
            "Hidden biases:\n",
            " [ 0.03226954 -0.45006547  0.84320078 -1.06762043]\n",
            "Output bias:\n",
            " [-0.78891268]\n"
          ]
        }
      ]
    },
    {
      "cell_type": "code",
      "source": [],
      "metadata": {
        "id": "fTG3vuGP8cr5"
      },
      "execution_count": null,
      "outputs": []
    },
    {
      "cell_type": "markdown",
      "source": [
        "# Regression Example"
      ],
      "metadata": {
        "id": "2SOMvuHH83lr"
      }
    },
    {
      "cell_type": "code",
      "source": [
        "from sklearn.datasets import make_regression\n",
        "X, y = make_regression(n_samples=1000, n_features=3, noise=20, random_state=42)\n",
        "y = y.reshape(-1, 1)\n",
        "\n",
        "from sklearn.model_selection import train_test_split\n",
        "X_train, X_test, y_train, y_test = train_test_split(X, y, random_state=42)\n",
        "\n",
        "from sklearn.preprocessing import StandardScaler\n",
        "scaler = StandardScaler()\n",
        "X_train = scaler.fit_transform(X_train)\n",
        "X_test = scaler.transform(X_test)"
      ],
      "metadata": {
        "id": "lCCaWN2284xf"
      },
      "execution_count": 13,
      "outputs": []
    },
    {
      "cell_type": "code",
      "source": [
        "nn = NeuralNetwork(X_train, y_train,  n_hidden_neurons=128, output_act_fn='linear', error_fn='mse')\n",
        "wih, bh, who, bo= nn.train(X_train, y_train, learning_rate=0.001, epochs=5000)"
      ],
      "metadata": {
        "colab": {
          "base_uri": "https://localhost:8080/"
        },
        "id": "e2L9vZLS878v",
        "outputId": "b098049e-16d9-4c50-90f9-c5df4ad38245"
      },
      "execution_count": 14,
      "outputs": [
        {
          "output_type": "stream",
          "name": "stdout",
          "text": [
            "Epoch: 0, Loss: 18004.477\n",
            "Epoch: 500, Loss: 371.140\n",
            "Epoch: 1000, Loss: 362.546\n",
            "Epoch: 1500, Loss: 359.088\n",
            "Epoch: 2000, Loss: 356.734\n",
            "Epoch: 2500, Loss: 354.845\n",
            "Epoch: 3000, Loss: 353.089\n",
            "Epoch: 3500, Loss: 351.570\n",
            "Epoch: 4000, Loss: 350.041\n",
            "Epoch: 4500, Loss: 348.558\n",
            "Training complete!\n"
          ]
        }
      ]
    },
    {
      "cell_type": "code",
      "source": [
        "# Accuracy\n",
        "from sklearn.metrics import r2_score\n",
        "y_pred = nn.predict(X_test)\n",
        "print('R2 Score: {:.3f}'.format(r2_score(y_test, y_pred)))"
      ],
      "metadata": {
        "colab": {
          "base_uri": "https://localhost:8080/"
        },
        "id": "bd84w5HY8_Rp",
        "outputId": "58ef086a-7be7-40a9-9150-901ee069be8b"
      },
      "execution_count": 15,
      "outputs": [
        {
          "output_type": "stream",
          "name": "stdout",
          "text": [
            "R2 Score: 0.975\n"
          ]
        }
      ]
    },
    {
      "cell_type": "code",
      "source": [
        "from sklearn.linear_model import LinearRegression\n",
        "lr = LinearRegression()\n",
        "lr.fit(X_train, y_train)\n",
        "y_pred = lr.predict(X_test)\n",
        "print('R2 Score: {:.3f}'.format(r2_score(y_test, y_pred)))"
      ],
      "metadata": {
        "colab": {
          "base_uri": "https://localhost:8080/"
        },
        "id": "B9AlDgnj9Ewe",
        "outputId": "ede6f45e-3d6c-4b8d-ce29-982b9af5905d"
      },
      "execution_count": 16,
      "outputs": [
        {
          "output_type": "stream",
          "name": "stdout",
          "text": [
            "R2 Score: 0.976\n"
          ]
        }
      ]
    },
    {
      "cell_type": "code",
      "source": [],
      "metadata": {
        "id": "v31L0aBu9HgK"
      },
      "execution_count": null,
      "outputs": []
    }
  ]
}